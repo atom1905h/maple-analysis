{
 "cells": [
  {
   "cell_type": "code",
   "execution_count": 3,
   "metadata": {},
   "outputs": [],
   "source": [
    "import pandas as pd\n",
    "import seaborn as sns\n",
    "import matplotlib.pyplot as plt\n",
    "from datetime import datetime, timedelta\n",
    "from nltk.tokenize import RegexpTokenizer\n",
    "import re\n",
    "from tqdm import tqdm\n",
    "import re \n",
    "from gensim import corpora\n",
    "import gensim \n",
    "import pyLDAvis.gensim_models \n",
    "from collections import Counter \n",
    "from job import filter_data"
   ]
  },
  {
   "cell_type": "code",
   "execution_count": 45,
   "metadata": {},
   "outputs": [],
   "source": [
    "stopword_list = pd.read_excel('Word/stopword_list.xlsx')\n",
    "one_char_keyword = pd.read_excel('Word/one_char_list.xlsx')"
   ]
  },
  {
   "cell_type": "code",
   "execution_count": 46,
   "metadata": {},
   "outputs": [],
   "source": [
    "def remove_stopword(tokens):\n",
    "    review_removed_stopword = []\n",
    "    for token in tokens:\n",
    "        # 토큰의 글자 수가 2글자 이상인 경우\n",
    "        if 1 < len(token):\n",
    "            # 토큰이 불용어가 아닌 경우만 분석용 리뷰 데이터로 포함\n",
    "            if token not in list(stopword_list['stopword']):\n",
    "                review_removed_stopword.append(token)\n",
    "        # 토큰의 글자 수가 1글자인 경우\n",
    "        else:\n",
    "            # 1글자 키워드에 포함되는 경우만 분석용 리뷰 데이터로 포함\n",
    "            if token in list(one_char_keyword['one_char_keyword']):\n",
    "                review_removed_stopword.append(token)\n",
    "    return review_removed_stopword"
   ]
  },
  {
   "cell_type": "code",
   "execution_count": 62,
   "metadata": {},
   "outputs": [],
   "source": [
    "def lda_modeling(review_prep, NUM_TOPICS=5, PASSES=15):\n",
    "    dictionary = corpora.Dictionary(review_prep)\n",
    "    corpus = [dictionary.doc2bow(review) for review in review_prep]\n",
    "    model = gensim.models.ldamodel.LdaModel(corpus, \n",
    "                                            num_topics = NUM_TOPICS, \n",
    "                                            id2word = dictionary, \n",
    "                                            passes = PASSES)\n",
    "    return model, corpus, dictionary"
   ]
  },
  {
   "cell_type": "code",
   "execution_count": 63,
   "metadata": {},
   "outputs": [],
   "source": [
    "def lda_visualize(model, corpus, dictionary, month, job):\n",
    "    pyLDAvis.enable_notebook()\n",
    "    result_visualized = pyLDAvis.gensim_models.prepare(model, corpus, dictionary)\n",
    "    pyLDAvis.display(result_visualized)\n",
    "    RESULT_FILE = f'result/lda_result_{month}월_{job}.html'\n",
    "    pyLDAvis.save_html(result_visualized, RESULT_FILE)"
   ]
  },
  {
   "cell_type": "code",
   "execution_count": 64,
   "metadata": {},
   "outputs": [],
   "source": [
    "df = pd.read_csv('data/jobs.csv')\n",
    "filtered_data, months = filter_data(df)"
   ]
  },
  {
   "cell_type": "code",
   "execution_count": 71,
   "metadata": {},
   "outputs": [
    {
     "name": "stderr",
     "output_type": "stream",
     "text": [
      "C:\\Users\\SS\\AppData\\Local\\Temp\\ipykernel_26060\\450259476.py:12: SettingWithCopyWarning: \n",
      "A value is trying to be set on a copy of a slice from a DataFrame.\n",
      "Try using .loc[row_indexer,col_indexer] = value instead\n",
      "\n",
      "See the caveats in the documentation: https://pandas.pydata.org/pandas-docs/stable/user_guide/indexing.html#returning-a-view-versus-a-copy\n",
      "  filtered_month_data['remove_reply'] = filtered_month_data['title'].apply(lambda x: re.sub('[^가-힣 ]', '', x))\n",
      "C:\\Users\\SS\\AppData\\Local\\Temp\\ipykernel_26060\\450259476.py:14: SettingWithCopyWarning: \n",
      "A value is trying to be set on a copy of a slice from a DataFrame.\n",
      "Try using .loc[row_indexer,col_indexer] = value instead\n",
      "\n",
      "See the caveats in the documentation: https://pandas.pydata.org/pandas-docs/stable/user_guide/indexing.html#returning-a-view-versus-a-copy\n",
      "  filtered_month_data['tokens']=filtered_month_data['remove_reply'].apply(tokenizer.tokenize)\n",
      "C:\\Users\\SS\\AppData\\Local\\Temp\\ipykernel_26060\\450259476.py:15: SettingWithCopyWarning: \n",
      "A value is trying to be set on a copy of a slice from a DataFrame.\n",
      "Try using .loc[row_indexer,col_indexer] = value instead\n",
      "\n",
      "See the caveats in the documentation: https://pandas.pydata.org/pandas-docs/stable/user_guide/indexing.html#returning-a-view-versus-a-copy\n",
      "  filtered_month_data['tokens'] = filtered_month_data['tokens'].apply(remove_stopword)\n",
      "C:\\Users\\SS\\AppData\\Local\\Temp\\ipykernel_26060\\450259476.py:12: SettingWithCopyWarning: \n",
      "A value is trying to be set on a copy of a slice from a DataFrame.\n",
      "Try using .loc[row_indexer,col_indexer] = value instead\n",
      "\n",
      "See the caveats in the documentation: https://pandas.pydata.org/pandas-docs/stable/user_guide/indexing.html#returning-a-view-versus-a-copy\n",
      "  filtered_month_data['remove_reply'] = filtered_month_data['title'].apply(lambda x: re.sub('[^가-힣 ]', '', x))\n",
      "C:\\Users\\SS\\AppData\\Local\\Temp\\ipykernel_26060\\450259476.py:14: SettingWithCopyWarning: \n",
      "A value is trying to be set on a copy of a slice from a DataFrame.\n",
      "Try using .loc[row_indexer,col_indexer] = value instead\n",
      "\n",
      "See the caveats in the documentation: https://pandas.pydata.org/pandas-docs/stable/user_guide/indexing.html#returning-a-view-versus-a-copy\n",
      "  filtered_month_data['tokens']=filtered_month_data['remove_reply'].apply(tokenizer.tokenize)\n",
      "C:\\Users\\SS\\AppData\\Local\\Temp\\ipykernel_26060\\450259476.py:15: SettingWithCopyWarning: \n",
      "A value is trying to be set on a copy of a slice from a DataFrame.\n",
      "Try using .loc[row_indexer,col_indexer] = value instead\n",
      "\n",
      "See the caveats in the documentation: https://pandas.pydata.org/pandas-docs/stable/user_guide/indexing.html#returning-a-view-versus-a-copy\n",
      "  filtered_month_data['tokens'] = filtered_month_data['tokens'].apply(remove_stopword)\n",
      "C:\\Users\\SS\\AppData\\Local\\Temp\\ipykernel_26060\\450259476.py:12: SettingWithCopyWarning: \n",
      "A value is trying to be set on a copy of a slice from a DataFrame.\n",
      "Try using .loc[row_indexer,col_indexer] = value instead\n",
      "\n",
      "See the caveats in the documentation: https://pandas.pydata.org/pandas-docs/stable/user_guide/indexing.html#returning-a-view-versus-a-copy\n",
      "  filtered_month_data['remove_reply'] = filtered_month_data['title'].apply(lambda x: re.sub('[^가-힣 ]', '', x))\n",
      "C:\\Users\\SS\\AppData\\Local\\Temp\\ipykernel_26060\\450259476.py:14: SettingWithCopyWarning: \n",
      "A value is trying to be set on a copy of a slice from a DataFrame.\n",
      "Try using .loc[row_indexer,col_indexer] = value instead\n",
      "\n",
      "See the caveats in the documentation: https://pandas.pydata.org/pandas-docs/stable/user_guide/indexing.html#returning-a-view-versus-a-copy\n",
      "  filtered_month_data['tokens']=filtered_month_data['remove_reply'].apply(tokenizer.tokenize)\n",
      "C:\\Users\\SS\\AppData\\Local\\Temp\\ipykernel_26060\\450259476.py:15: SettingWithCopyWarning: \n",
      "A value is trying to be set on a copy of a slice from a DataFrame.\n",
      "Try using .loc[row_indexer,col_indexer] = value instead\n",
      "\n",
      "See the caveats in the documentation: https://pandas.pydata.org/pandas-docs/stable/user_guide/indexing.html#returning-a-view-versus-a-copy\n",
      "  filtered_month_data['tokens'] = filtered_month_data['tokens'].apply(remove_stopword)\n"
     ]
    }
   ],
   "source": [
    "for i in range(len(months)):\n",
    "    filtered_month_data = filtered_data[filtered_data['date'].dt.month==months[i]]\n",
    "    grouped_data = filtered_month_data.groupby('job').agg({\n",
    "            'title': 'count',\n",
    "            'reply': 'sum',\n",
    "            'view': 'sum',\n",
    "            'recommend': 'sum'\n",
    "        }).reset_index()\n",
    "    sum_data = grouped_data[['title','reply','view','recommend']].sum(axis=1)\n",
    "    top_jobs_index = sum_data.nlargest(3).index\n",
    "    bottom_jobs_index = sum_data.nsmallest(3).index\n",
    "    filtered_month_data['remove_reply'] = filtered_month_data['title'].apply(lambda x: re.sub('[^가-힣 ]', '', x))\n",
    "    tokenizer = RegexpTokenizer(\"[가-힣]+\") \n",
    "    filtered_month_data['tokens']=filtered_month_data['remove_reply'].apply(tokenizer.tokenize)\n",
    "    filtered_month_data['tokens'] = filtered_month_data['tokens'].apply(remove_stopword)\n",
    "\n",
    "    top_job_list = grouped_data['job'][top_jobs_index].values\n",
    "    bottom_job_list = grouped_data['job'][bottom_jobs_index].values\n",
    "\n",
    "    for j in range(len(top_job_list)):\n",
    "        top_job_tokens= filtered_month_data[filtered_month_data['job']==top_job_list[j]]['tokens']\n",
    "        bottom_job_tokens= filtered_month_data[filtered_month_data['job']==bottom_job_list[j]]['tokens']\n",
    "\n",
    "        model, corpus, dictionary = lda_modeling(top_job_tokens)\n",
    "        lda_visualize(model, corpus, dictionary, months[i], top_job_list[j])\n",
    "        model, corpus, dictionary = lda_modeling(bottom_job_tokens)\n",
    "        lda_visualize(model, corpus, dictionary, months[i], bottom_job_list[j])"
   ]
  }
 ],
 "metadata": {
  "kernelspec": {
   "display_name": "base",
   "language": "python",
   "name": "python3"
  },
  "language_info": {
   "codemirror_mode": {
    "name": "ipython",
    "version": 3
   },
   "file_extension": ".py",
   "mimetype": "text/x-python",
   "name": "python",
   "nbconvert_exporter": "python",
   "pygments_lexer": "ipython3",
   "version": "3.11.4"
  }
 },
 "nbformat": 4,
 "nbformat_minor": 2
}
