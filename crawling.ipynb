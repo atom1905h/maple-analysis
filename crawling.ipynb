{
 "cells": [
  {
   "cell_type": "code",
   "execution_count": 149,
   "metadata": {},
   "outputs": [],
   "source": [
    "from selenium import webdriver\n",
    "from bs4 import BeautifulSoup\n",
    "import time\n",
    "import pandas as pd\n",
    "import os"
   ]
  },
  {
   "cell_type": "code",
   "execution_count": null,
   "metadata": {},
   "outputs": [],
   "source": [
    "if 'data' not in os.listdir():\n",
    "    os.mkdir('data') "
   ]
  },
  {
   "cell_type": "code",
   "execution_count": null,
   "metadata": {},
   "outputs": [],
   "source": [
    "browser = webdriver.Chrome()"
   ]
  },
  {
   "cell_type": "code",
   "execution_count": 155,
   "metadata": {},
   "outputs": [],
   "source": [
    "url = 'https://maplestory.nexon.com/News/Event/Ongoing'\n",
    "browser.get(url)"
   ]
  },
  {
   "cell_type": "code",
   "execution_count": 156,
   "metadata": {},
   "outputs": [],
   "source": [
    "result=[]\n",
    "i=0\n",
    "while True:\n",
    "    # 현재 진행중인 이벤트\n",
    "    # 이벤트 \n",
    "    event_button_list = browser.find_elements('css selector', 'div.event_board > ul >li')\n",
    "    event_button_list[i].click()\n",
    "\n",
    "    j=0\n",
    "    html = browser.page_source\n",
    "    soup = BeautifulSoup(html, 'html.parser')\n",
    "    title = soup.select('p.qs_title>span')[0].text\n",
    "    duration = soup.select('div.qs_info_wrap > span.event_date')[0].text\n",
    "    click_num = soup.select('div.qs_info>p')[0].text\n",
    "    reply_num = soup.select('div.reply_title>h2>span')[0].text\n",
    "    \n",
    "    while True:\n",
    "        reply_button_list = browser.find_elements('css selector','div.page_numb2>a')\n",
    "        reply_button_list[j].click()\n",
    "        reply = soup.select('div.reply>p.reply_text')\n",
    "        for r in reply:\n",
    "            data= [title, duration, click_num, reply_num, r.text]\n",
    "            result.append(data)\n",
    "        time.sleep(1)\n",
    "        j+=1\n",
    "        if j==len(reply_button_list):\n",
    "            break\n",
    "    browser.get(url)\n",
    "    i+=1\n",
    "    if i==len(event_button_list):\n",
    "        break\n",
    "    time.sleep(1)"
   ]
  },
  {
   "cell_type": "code",
   "execution_count": 161,
   "metadata": {},
   "outputs": [],
   "source": [
    "df = pd.DataFrame(result)\n",
    "df.columns = ['title', 'duration', 'click_num', 'reply_num', 'reply']\n",
    "df.to_csv(\"data/ongoing_event.csv\")"
   ]
  },
  {
   "cell_type": "code",
   "execution_count": null,
   "metadata": {},
   "outputs": [],
   "source": []
  }
 ],
 "metadata": {
  "kernelspec": {
   "display_name": "base",
   "language": "python",
   "name": "python3"
  },
  "language_info": {
   "codemirror_mode": {
    "name": "ipython",
    "version": 3
   },
   "file_extension": ".py",
   "mimetype": "text/x-python",
   "name": "python",
   "nbconvert_exporter": "python",
   "pygments_lexer": "ipython3",
   "version": "3.11.4"
  }
 },
 "nbformat": 4,
 "nbformat_minor": 2
}
