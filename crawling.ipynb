{
 "cells": [
  {
   "cell_type": "code",
   "execution_count": 1,
   "metadata": {},
   "outputs": [],
   "source": [
    "from selenium import webdriver\n",
    "from bs4 import BeautifulSoup\n",
    "import time\n",
    "import pandas as pd\n",
    "import os\n",
    "from selenium.webdriver.common.keys import Keys"
   ]
  },
  {
   "cell_type": "code",
   "execution_count": null,
   "metadata": {},
   "outputs": [],
   "source": [
    "if 'data' not in os.listdir():\n",
    "    os.mkdir('data') "
   ]
  },
  {
   "cell_type": "markdown",
   "metadata": {},
   "source": [
    "## 현재 진행중인 이벤트 크롤링"
   ]
  },
  {
   "cell_type": "code",
   "execution_count": null,
   "metadata": {},
   "outputs": [],
   "source": [
    "browser = webdriver.Chrome()"
   ]
  },
  {
   "cell_type": "code",
   "execution_count": 155,
   "metadata": {},
   "outputs": [],
   "source": [
    "url = 'https://maplestory.nexon.com/News/Event/Ongoing'\n",
    "browser.get(url)"
   ]
  },
  {
   "cell_type": "code",
   "execution_count": 156,
   "metadata": {},
   "outputs": [],
   "source": [
    "result=[]\n",
    "i=0\n",
    "while True:\n",
    "    event_button_list = browser.find_elements('css selector', 'div.event_board > ul >li')\n",
    "    event_button_list[i].click()\n",
    "\n",
    "    j=0\n",
    "    html = browser.page_source\n",
    "    soup = BeautifulSoup(html, 'html.parser')\n",
    "    title = soup.select('p.qs_title>span')[0].text\n",
    "    duration = soup.select('div.qs_info_wrap > span.event_date')[0].text\n",
    "    click_num = soup.select('div.qs_info>p')[0].text\n",
    "    reply_num = soup.select('div.reply_title>h2>span')[0].text\n",
    "    \n",
    "    while True:\n",
    "        reply_button_list = browser.find_elements('css selector','div.page_numb2>a')\n",
    "        reply_button_list[j].click()\n",
    "        reply = soup.select('div.reply>p.reply_text')\n",
    "        for r in reply:\n",
    "            data= [title, duration, click_num, reply_num, r.text]\n",
    "            result.append(data)\n",
    "        time.sleep(1)\n",
    "        j+=1\n",
    "        if j==len(reply_button_list):\n",
    "            break\n",
    "    browser.get(url)\n",
    "    i+=1\n",
    "    if i==len(event_button_list):\n",
    "        break\n",
    "    time.sleep(1)"
   ]
  },
  {
   "cell_type": "code",
   "execution_count": 161,
   "metadata": {},
   "outputs": [],
   "source": [
    "df = pd.DataFrame(result)\n",
    "df.columns = ['title', 'duration', 'click_num', 'reply_num', 'reply']\n",
    "df.to_csv(\"data/ongoing_event.csv\", index=False)"
   ]
  },
  {
   "cell_type": "markdown",
   "metadata": {},
   "source": [
    "## 썬데이 메이플 크롤링"
   ]
  },
  {
   "cell_type": "code",
   "execution_count": 2,
   "metadata": {},
   "outputs": [],
   "source": [
    "browser = webdriver.Chrome()"
   ]
  },
  {
   "cell_type": "code",
   "execution_count": 3,
   "metadata": {},
   "outputs": [],
   "source": [
    "url = 'https://www.fmkorea.com/index.php?mid=maple&category=1135601723'\n",
    "browser.get(url)"
   ]
  },
  {
   "cell_type": "code",
   "execution_count": 20,
   "metadata": {},
   "outputs": [],
   "source": [
    "from selenium.webdriver.support.ui import Select\n",
    "input_text = browser.find_elements('css selector', 'input#bd_srch_btm_itx_1135415169')[0]\n",
    "drop_down = browser.find_element('css selector','span.btn_img select')\n",
    "search = \"썬데이 메이플(2023)\"\n",
    "\n",
    "input_text.send_keys(search)\n",
    "select = Select(drop_down)\n",
    "select.select_by_value('title')\n",
    "input_text.send_keys(Keys.RETURN)"
   ]
  },
  {
   "cell_type": "code",
   "execution_count": 21,
   "metadata": {},
   "outputs": [
    {
     "name": "stdout",
     "output_type": "stream",
     "text": [
      "썬데이 메이플 (2023년 1월 1일) 20 5798 19\n"
     ]
    }
   ],
   "source": [
    "while True:\n",
    "    html = browser.page_source\n",
    "    soup = BeautifulSoup(html, 'html.parser')\n",
    "    now = soup.select('strong.direction')[0].text.strip()\n",
    "    title_reply_list = soup.select('td.title.hotdeal_var8 > a')\n",
    "    m_no_list = soup.select('td.m_no')\n",
    "    for idx, t_r in enumerate(title_reply_list):\n",
    "        if idx % 2==0:\n",
    "            title = t_r.text.strip()\n",
    "            m_no = m_no_list[idx].text.strip()\n",
    "        else:\n",
    "            reply_num = t_r.text\n",
    "            m_no_voted = m_no_list[idx].text.strip()\n",
    "    if now=='다음':\n",
    "        break\n",
    "    else:\n",
    "        button = browser.find_elements('css selector','a.direction')[0]\n",
    "        button.click()\n",
    "print(title, reply_num, m_no, m_no_voted)"
   ]
  },
  {
   "cell_type": "code",
   "execution_count": null,
   "metadata": {},
   "outputs": [],
   "source": []
  }
 ],
 "metadata": {
  "kernelspec": {
   "display_name": "base",
   "language": "python",
   "name": "python3"
  },
  "language_info": {
   "codemirror_mode": {
    "name": "ipython",
    "version": 3
   },
   "file_extension": ".py",
   "mimetype": "text/x-python",
   "name": "python",
   "nbconvert_exporter": "python",
   "pygments_lexer": "ipython3",
   "version": "3.11.4"
  }
 },
 "nbformat": 4,
 "nbformat_minor": 2
}
